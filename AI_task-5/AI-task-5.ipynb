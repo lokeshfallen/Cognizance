{
 "cells": [
  {
   "cell_type": "code",
   "execution_count": null,
   "id": "359c9fbb-32e4-4853-9b85-65c27eeba45a",
   "metadata": {},
   "outputs": [],
   "source": [
    "import pandas as pd\n",
    "import matplotlib.pyplot as plt\n",
    "import seaborn as sns\n",
    "from sklearn.model_selection import train_test_split\n",
    "from sklearn import linear_model"
   ]
  },
  {
   "cell_type": "code",
   "execution_count": null,
   "id": "b85ecb16-c7cd-4dc3-bcb3-25149bb709f4",
   "metadata": {},
   "outputs": [],
   "source": [
    "df = sns.load_dataset('titanic')"
   ]
  },
  {
   "cell_type": "markdown",
   "id": "14089dda-cc89-4eff-a4a8-00855de6379d",
   "metadata": {},
   "source": [
    "### Data Exploration"
   ]
  },
  {
   "cell_type": "code",
   "execution_count": null,
   "id": "728c3222-6058-42d9-a6e8-9b7ddf584995",
   "metadata": {},
   "outputs": [],
   "source": [
    "df.head()"
   ]
  },
  {
   "cell_type": "code",
   "execution_count": null,
   "id": "1fc9828d-5ea1-4f41-b33e-c063b512bd31",
   "metadata": {},
   "outputs": [],
   "source": [
    "df.shape"
   ]
  },
  {
   "cell_type": "code",
   "execution_count": null,
   "id": "47128a9e-0541-4b7d-821f-7f78000f0a78",
   "metadata": {},
   "outputs": [],
   "source": [
    "df.drop(['who', 'adult_male'], axis= 1, inplace= True)"
   ]
  },
  {
   "cell_type": "code",
   "execution_count": null,
   "id": "05e0d600-4455-46b6-8320-947d22105b3e",
   "metadata": {},
   "outputs": [],
   "source": [
    "df.head()"
   ]
  },
  {
   "cell_type": "code",
   "execution_count": null,
   "id": "7d3c186f-66d4-404e-8ac5-48c2d5214aa3",
   "metadata": {},
   "outputs": [],
   "source": [
    "df.drop('alive', axis= 1, inplace=True)\n",
    "df.head()"
   ]
  },
  {
   "cell_type": "code",
   "execution_count": null,
   "id": "1151fba3-9847-4b8f-97d5-7fd2cafcc9bf",
   "metadata": {},
   "outputs": [],
   "source": [
    "df.isnull().sum()"
   ]
  },
  {
   "cell_type": "code",
   "execution_count": null,
   "id": "e7367f79-a76d-4a1e-aedb-3b44e5eb1586",
   "metadata": {},
   "outputs": [],
   "source": [
    "df.age.fillna(df.age.mean(), inplace=True)"
   ]
  },
  {
   "cell_type": "code",
   "execution_count": null,
   "id": "3c4ffe3c-a5d1-4038-b8ff-0dd27158c8a9",
   "metadata": {},
   "outputs": [],
   "source": [
    "df.age.isnull().sum()"
   ]
  },
  {
   "cell_type": "code",
   "execution_count": null,
   "id": "41d2d7f2-ade2-4f5b-8e4e-41464a383f9e",
   "metadata": {},
   "outputs": [],
   "source": [
    "df.embarked.describe()"
   ]
  },
  {
   "cell_type": "code",
   "execution_count": null,
   "id": "74a93ef0-49a4-4196-8df6-b658615294a4",
   "metadata": {},
   "outputs": [],
   "source": [
    "df.embarked.fillna(\"S\", inplace= True)"
   ]
  },
  {
   "cell_type": "code",
   "execution_count": null,
   "id": "88f203fa-a1ff-4e7e-8252-5ae8ea94db6a",
   "metadata": {},
   "outputs": [],
   "source": [
    "df.embarked.isnull().sum()"
   ]
  },
  {
   "cell_type": "code",
   "execution_count": null,
   "id": "bfd096fd-1f53-4337-b309-37d7094d7e15",
   "metadata": {},
   "outputs": [],
   "source": [
    "df.deck.describe()"
   ]
  },
  {
   "cell_type": "code",
   "execution_count": null,
   "id": "addef3b7-3c41-456b-8044-627e32266062",
   "metadata": {},
   "outputs": [],
   "source": [
    "df.deck.unique()"
   ]
  },
  {
   "cell_type": "code",
   "execution_count": null,
   "id": "43d58fe3-eabf-4f01-882a-68ce84d511d3",
   "metadata": {},
   "outputs": [],
   "source": [
    "df.deck.fillna(\"C\", inplace= True)"
   ]
  },
  {
   "cell_type": "code",
   "execution_count": null,
   "id": "2dd32e86-67ae-4aa4-bfef-4e093fd64a9e",
   "metadata": {},
   "outputs": [],
   "source": [
    "df.embark_town.describe()"
   ]
  },
  {
   "cell_type": "code",
   "execution_count": null,
   "id": "a9042d84-a1df-48ab-ba6c-08f84b79c00f",
   "metadata": {},
   "outputs": [],
   "source": [
    "df.embark_town.fillna(\"Southampton\", inplace= True)"
   ]
  },
  {
   "cell_type": "code",
   "execution_count": null,
   "id": "6c300c74-ba4a-4920-8951-9323e5222180",
   "metadata": {},
   "outputs": [],
   "source": [
    "df.isnull().sum()"
   ]
  },
  {
   "cell_type": "code",
   "execution_count": null,
   "id": "79a9f22c-5cc1-42a6-a546-104cf3654d18",
   "metadata": {},
   "outputs": [],
   "source": [
    "df.head()"
   ]
  },
  {
   "cell_type": "code",
   "execution_count": null,
   "id": "346f8190-4b0b-4db1-9910-82cdc87b1df1",
   "metadata": {},
   "outputs": [],
   "source": [
    "df1 = df.drop('survived', axis= 1)\n",
    "y = df.survived"
   ]
  },
  {
   "cell_type": "code",
   "execution_count": null,
   "id": "3777c26c-4b6d-445e-8d84-38171a877e71",
   "metadata": {},
   "outputs": [],
   "source": [
    "df1.head()"
   ]
  },
  {
   "cell_type": "code",
   "execution_count": null,
   "id": "f1fa340f-ac50-41f2-b8eb-b797d28f4ecf",
   "metadata": {},
   "outputs": [],
   "source": [
    "x = pd.get_dummies(df1, drop_first=True)"
   ]
  },
  {
   "cell_type": "code",
   "execution_count": null,
   "id": "6f17d2d4-75dd-45bc-b281-254e089f6006",
   "metadata": {},
   "outputs": [],
   "source": [
    "x.head()"
   ]
  },
  {
   "cell_type": "code",
   "execution_count": null,
   "id": "befe6b8b-f8b5-4c37-b0e2-cb6a72fd9800",
   "metadata": {},
   "outputs": [],
   "source": [
    "x.alone = x.alone.apply(lambda x : 0 if x == False else 1)"
   ]
  },
  {
   "cell_type": "code",
   "execution_count": null,
   "id": "85dca38b-00ad-4073-b834-2cc2d303bb50",
   "metadata": {},
   "outputs": [],
   "source": [
    "x.head()"
   ]
  },
  {
   "cell_type": "markdown",
   "id": "07558d82-b48f-4bb8-b6aa-bb21f1e34646",
   "metadata": {},
   "source": [
    "## Splitting the training and testing data sets"
   ]
  },
  {
   "cell_type": "code",
   "execution_count": null,
   "id": "ee69f7d3-ba51-4007-a787-4ac73922d35c",
   "metadata": {},
   "outputs": [],
   "source": [
    "x_train, x_test, y_train, y_test = train_test_split(x, y, test_size=0.2, random_state=0)"
   ]
  },
  {
   "cell_type": "code",
   "execution_count": null,
   "id": "1aa56d85-2a85-4165-8808-9d90365d8fc4",
   "metadata": {},
   "outputs": [],
   "source": [
    "x_train.head()"
   ]
  },
  {
   "cell_type": "markdown",
   "id": "73e16957-4c6a-4ff3-91c4-389c561a4b8a",
   "metadata": {},
   "source": [
    "### Logistic Regression "
   ]
  },
  {
   "cell_type": "code",
   "execution_count": null,
   "id": "8023ee03-a2d8-4148-b73f-b60e783c6646",
   "metadata": {},
   "outputs": [],
   "source": [
    "log_model = linear_model.LogisticRegression()"
   ]
  },
  {
   "cell_type": "code",
   "execution_count": null,
   "id": "95eeb239-0a6f-4f24-84f5-7c3bf8830075",
   "metadata": {},
   "outputs": [],
   "source": [
    "log_model.fit(x_train, y_train)"
   ]
  },
  {
   "cell_type": "code",
   "execution_count": null,
   "id": "702cfb73-a5a5-4f66-9d85-90526093c33b",
   "metadata": {},
   "outputs": [],
   "source": [
    "\n",
    "y_pred_1 = log_model.predict(x_test)"
   ]
  },
  {
   "cell_type": "code",
   "execution_count": null,
   "id": "6d1e6269-75e3-4f48-be41-36a742a84c18",
   "metadata": {},
   "outputs": [],
   "source": [
    "log_model.score(x_test, y_test)"
   ]
  },
  {
   "cell_type": "markdown",
   "id": "1e0a2580-1260-4177-9406-1802fde05a5a",
   "metadata": {},
   "source": [
    "### Decision Tree"
   ]
  },
  {
   "cell_type": "code",
   "execution_count": null,
   "id": "312be997-2091-4147-860f-c2a653a088e2",
   "metadata": {},
   "outputs": [],
   "source": [
    "from sklearn.tree import DecisionTreeClassifier"
   ]
  },
  {
   "cell_type": "code",
   "execution_count": null,
   "id": "c3e06121-b927-4ad7-9ecb-bac0c62bad85",
   "metadata": {},
   "outputs": [],
   "source": [
    "dtree_model = DecisionTreeClassifier()"
   ]
  },
  {
   "cell_type": "code",
   "execution_count": null,
   "id": "1e865fae-c4ff-45f5-8f88-6f4589da424a",
   "metadata": {},
   "outputs": [],
   "source": [
    "dtree_model.fit(x_train, y_train)"
   ]
  },
  {
   "cell_type": "code",
   "execution_count": null,
   "id": "40c7cf16-129b-4710-b818-0f0717c40cb3",
   "metadata": {},
   "outputs": [],
   "source": [
    "dtree_model.score(x_test, y_test)\n",
    "y_pred_2 = dtree_model.predict(x_test)"
   ]
  },
  {
   "cell_type": "code",
   "execution_count": null,
   "id": "dc4cbba2-8a2b-43f3-98a5-b8e99433faa2",
   "metadata": {},
   "outputs": [],
   "source": [
    "dtree_model.score(x_test, y_test)"
   ]
  },
  {
   "cell_type": "markdown",
   "id": "ae47540e-224e-41b7-ad4e-bb62e130b202",
   "metadata": {},
   "source": [
    "### Support Vector Machine"
   ]
  },
  {
   "cell_type": "code",
   "execution_count": null,
   "id": "ea2c5b3e-6321-4c99-a238-b4a9903e2b98",
   "metadata": {},
   "outputs": [],
   "source": [
    "from sklearn.svm import SVC"
   ]
  },
  {
   "cell_type": "code",
   "execution_count": null,
   "id": "3bb83311-eaf0-45a5-9c33-48a9fa0a8025",
   "metadata": {},
   "outputs": [],
   "source": [
    "svm_model = SVC()"
   ]
  },
  {
   "cell_type": "code",
   "execution_count": null,
   "id": "2c11fb18-b1d9-4e91-941d-b33c46eeec01",
   "metadata": {},
   "outputs": [],
   "source": [
    "svm_model.fit(x_train, y_train)"
   ]
  },
  {
   "cell_type": "code",
   "execution_count": null,
   "id": "83e94f20-37f8-4254-a7ff-ac93e995d708",
   "metadata": {},
   "outputs": [],
   "source": [
    "svm_model.score(x_test, y_test)"
   ]
  },
  {
   "cell_type": "markdown",
   "id": "c878d1c4-5f24-4717-bcbb-ab72b9cc924b",
   "metadata": {},
   "source": [
    "### Ridge Regression"
   ]
  },
  {
   "cell_type": "code",
   "execution_count": null,
   "id": "455b02fc-48de-44e8-b290-4dc414101ed8",
   "metadata": {},
   "outputs": [],
   "source": [
    "from sklearn.linear_model import RidgeClassifier"
   ]
  },
  {
   "cell_type": "code",
   "execution_count": null,
   "id": "9fb24856-ff24-4433-8bc2-46b268f0b73f",
   "metadata": {},
   "outputs": [],
   "source": [
    "ridge_model = RidgeClassifier()"
   ]
  },
  {
   "cell_type": "code",
   "execution_count": null,
   "id": "5fc99614-f75a-4be5-a2d9-9d144573005b",
   "metadata": {},
   "outputs": [],
   "source": [
    "ridge_model.fit(x_train, y_train)"
   ]
  },
  {
   "cell_type": "raw",
   "id": "694cba62-d9ad-42f6-9774-78e32db03c4c",
   "metadata": {},
   "source": [
    "ridge_model.score(x_test, y_test)"
   ]
  },
  {
   "cell_type": "code",
   "execution_count": null,
   "id": "3ec29b2b-6c82-4984-a93a-f3b97dda7b2a",
   "metadata": {},
   "outputs": [],
   "source": [
    "y_pred_4 = ridge_model.predict(x_test)"
   ]
  },
  {
   "cell_type": "markdown",
   "id": "8aa909ae-bb68-470d-abbd-56fb3356e123",
   "metadata": {},
   "source": [
    "### Lasso Regression"
   ]
  },
  {
   "cell_type": "code",
   "execution_count": null,
   "id": "42cd944e-3430-4383-bda5-c5d08987e69c",
   "metadata": {},
   "outputs": [],
   "source": [
    "from sklearn.linear_model import Lasso"
   ]
  },
  {
   "cell_type": "code",
   "execution_count": null,
   "id": "0c5b88fc-9391-44a5-b358-e51c1795fff2",
   "metadata": {},
   "outputs": [],
   "source": [
    "lasso_model = Lasso()"
   ]
  },
  {
   "cell_type": "code",
   "execution_count": null,
   "id": "4a4d72f3-6315-4cdc-af96-4b1a78c1b6fa",
   "metadata": {},
   "outputs": [],
   "source": [
    "lasso_model.fit(x_train, y_train)\n",
    "lasso_model.score(x_test, y_test)"
   ]
  },
  {
   "cell_type": "markdown",
   "id": "ddce6b3d-55d5-481c-be27-9d8048d46961",
   "metadata": {},
   "source": [
    "### Analysis on the result of the five models"
   ]
  },
  {
   "cell_type": "markdown",
   "id": "a7722159-8eb7-46e2-983d-a6a7fba19c05",
   "metadata": {},
   "source": [
    "Scores:\n",
    "   Logistic Regression : 0.8156424581005587;   \n",
    "   Decision Tree Regression : 0.7932960893854749;\n",
    "   Support Vector Machine : 0.7206703910614525;\n",
    "   Ridge Regression : 0.8100558659217877;\n",
    "   Lasso Regression : 0.10170958398442531;\n",
    "The best fit model is thus produced by logistic regression"
   ]
  },
  {
   "cell_type": "code",
   "execution_count": null,
   "id": "8b093b3f-170a-41a2-927e-dd1bbf6cbec4",
   "metadata": {},
   "outputs": [],
   "source": []
  }
 ],
 "metadata": {
  "kernelspec": {
   "display_name": "Python 3 (ipykernel)",
   "language": "python",
   "name": "python3"
  },
  "language_info": {
   "codemirror_mode": {
    "name": "ipython",
    "version": 3
   },
   "file_extension": ".py",
   "mimetype": "text/x-python",
   "name": "python",
   "nbconvert_exporter": "python",
   "pygments_lexer": "ipython3",
   "version": "3.10.2"
  }
 },
 "nbformat": 4,
 "nbformat_minor": 5
}
