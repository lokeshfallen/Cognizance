{
 "cells": [
  {
   "cell_type": "code",
   "execution_count": 1,
   "id": "4fa3dd2f-878e-4fec-b876-e638d00610cc",
   "metadata": {},
   "outputs": [],
   "source": [
    "import numpy as np"
   ]
  },
  {
   "cell_type": "code",
   "execution_count": 2,
   "id": "06588fd0-5f58-4e6a-9c92-763ba80eb8ec",
   "metadata": {},
   "outputs": [],
   "source": [
    "np.random.seed(100) \n",
    "a = np.random.uniform(1,50, 20) "
   ]
  },
  {
   "cell_type": "code",
   "execution_count": 3,
   "id": "c4fd2383-eaf8-4d07-8c2f-e7bedca32fc2",
   "metadata": {},
   "outputs": [
    {
     "data": {
      "text/plain": [
       "array([27.62684215, 14.64009987, 21.80136195, 42.39403048,  1.23122395,\n",
       "        6.95688692, 33.86670515, 41.466785  ,  7.69862289, 29.17957314,\n",
       "       44.67477576, 11.25090398, 10.08108276,  6.31046763, 11.76517714,\n",
       "       48.95256545, 40.77247431,  9.42510962, 40.99501269, 14.42961361])"
      ]
     },
     "execution_count": 3,
     "metadata": {},
     "output_type": "execute_result"
    }
   ],
   "source": [
    "a"
   ]
  },
  {
   "cell_type": "code",
   "execution_count": 4,
   "id": "8b7b3938-46a0-4c60-9891-81f5ec4ac51e",
   "metadata": {},
   "outputs": [
    {
     "data": {
      "text/plain": [
       "array([27.62684215, 15.        , 21.80136195, 42.39403048, 15.        ,\n",
       "       15.        , 33.86670515, 41.466785  , 15.        , 29.17957314,\n",
       "       44.67477576, 15.        , 15.        , 15.        , 15.        ,\n",
       "       45.        , 40.77247431, 15.        , 40.99501269, 15.        ])"
      ]
     },
     "execution_count": 4,
     "metadata": {},
     "output_type": "execute_result"
    }
   ],
   "source": [
    "np.clip(a, 15, 45)"
   ]
  },
  {
   "cell_type": "code",
   "execution_count": null,
   "id": "cf29e17b-cfa2-47da-904f-b226e3f7e213",
   "metadata": {},
   "outputs": [],
   "source": []
  }
 ],
 "metadata": {
  "kernelspec": {
   "display_name": "Python 3 (ipykernel)",
   "language": "python",
   "name": "python3"
  },
  "language_info": {
   "codemirror_mode": {
    "name": "ipython",
    "version": 3
   },
   "file_extension": ".py",
   "mimetype": "text/x-python",
   "name": "python",
   "nbconvert_exporter": "python",
   "pygments_lexer": "ipython3",
   "version": "3.10.2"
  }
 },
 "nbformat": 4,
 "nbformat_minor": 5
}
