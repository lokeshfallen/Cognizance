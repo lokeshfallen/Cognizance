{
 "cells": [
  {
   "cell_type": "code",
   "execution_count": 27,
   "id": "110521dc-3dfb-4d64-8cb0-82589981adca",
   "metadata": {},
   "outputs": [],
   "source": [
    "import csv\n",
    "\n",
    "with open('Q1.txt', 'r') as rf:\n",
    "    lines = rf.read()\n",
    "    content = lines.split(',')"
   ]
  },
  {
   "cell_type": "code",
   "execution_count": 22,
   "id": "39b2a14f-9d42-447a-b9d1-2deef92c7627",
   "metadata": {},
   "outputs": [
    {
     "name": "stdout",
     "output_type": "stream",
     "text": [
      "['1 Aaa 3.5 Maths', '2 Bbb 4.2 Physics', '3 Ccc 7.62 Chemistry', '4 Ddd 9.55 Biology', '5 Eee 4.0 Social', '6 Fff 7.6 English', '7 Ggg 3.111 Maths', '8 Hhh 9.99 Physics', '9 Iii 1.23 Civics']\n"
     ]
    }
   ],
   "source": [
    "print(content)"
   ]
  },
  {
   "cell_type": "code",
   "execution_count": 33,
   "id": "c3024463-97bc-4e6a-9937-b3d67f8e9efe",
   "metadata": {},
   "outputs": [],
   "source": [
    "with open('Q1.csv', 'w') as wf:\n",
    "    csv_writer = csv.writer(wf)\n",
    "    csv_writer.writerow(content)"
   ]
  },
  {
   "cell_type": "code",
   "execution_count": null,
   "id": "1c803710-e65c-4784-a9ac-35c2eee7f309",
   "metadata": {},
   "outputs": [],
   "source": []
  }
 ],
 "metadata": {
  "kernelspec": {
   "display_name": "Python 3 (ipykernel)",
   "language": "python",
   "name": "python3"
  },
  "language_info": {
   "codemirror_mode": {
    "name": "ipython",
    "version": 3
   },
   "file_extension": ".py",
   "mimetype": "text/x-python",
   "name": "python",
   "nbconvert_exporter": "python",
   "pygments_lexer": "ipython3",
   "version": "3.10.2"
  }
 },
 "nbformat": 4,
 "nbformat_minor": 5
}
