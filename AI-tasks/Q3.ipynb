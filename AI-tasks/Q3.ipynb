{
 "cells": [
  {
   "cell_type": "code",
   "execution_count": null,
   "id": "a46861f1-c0b7-4c8f-9c51-b6808557f25b",
   "metadata": {},
   "outputs": [],
   "source": [
    "rep_count = 0\n",
    "needed_words = []\n",
    "final_count = 0\n",
    "rep_word = ''\n",
    "import re\n",
    "with open('test.txt', 'r') as f:\n",
    "    text = f.read()\n",
    "    words = re.split(' |,', text)"
   ]
  },
  {
   "cell_type": "code",
   "execution_count": null,
   "id": "bedfdffd-4657-407e-8562-85ee4b857d16",
   "metadata": {},
   "outputs": [],
   "source": [
    "print(words)"
   ]
  },
  {
   "cell_type": "code",
   "execution_count": null,
   "id": "1298e89f-808e-41a8-bc18-44cf34589dd1",
   "metadata": {},
   "outputs": [],
   "source": [
    "for i in range(0, len(words)):\n",
    "    if(len(words[i]) >= 6):\n",
    "        needed_words.append(words[i])"
   ]
  },
  {
   "cell_type": "code",
   "execution_count": null,
   "id": "fd04ab23-e736-4a2e-ba31-c3ef525f49f3",
   "metadata": {},
   "outputs": [],
   "source": [
    "print(needed_words)"
   ]
  },
  {
   "cell_type": "code",
   "execution_count": null,
   "id": "9d9512b9-6031-4a4c-b0b0-2056c968a0cd",
   "metadata": {},
   "outputs": [],
   "source": [
    "for i in range(len(words)):\n",
    "    words[i] = words[i].upper()"
   ]
  },
  {
   "cell_type": "code",
   "execution_count": null,
   "id": "86d029d9-6ecd-422b-bd41-293b7d60b969",
   "metadata": {},
   "outputs": [],
   "source": [
    "for i in range(len(words)):\n",
    "    count = 1\n",
    "    for j in range(i+1, len(words)):\n",
    "        if (words[i] == words[j]):\n",
    "            count = count+1\n",
    "    if (count > final_count):\n",
    "        final_count = count\n",
    "        rep_word = words[i]    "
   ]
  },
  {
   "cell_type": "code",
   "execution_count": null,
   "id": "83410f8f-ca83-4b93-8249-52f0ad1d6c00",
   "metadata": {},
   "outputs": [],
   "source": [
    "print(\"Most repeated word : \" + rep_word)"
   ]
  },
  {
   "cell_type": "code",
   "execution_count": null,
   "id": "07274f7a-d2c8-42ef-9b93-99e8f59e25dd",
   "metadata": {},
   "outputs": [],
   "source": []
  }
 ],
 "metadata": {
  "kernelspec": {
   "display_name": "Python 3 (ipykernel)",
   "language": "python",
   "name": "python3"
  },
  "language_info": {
   "codemirror_mode": {
    "name": "ipython",
    "version": 3
   },
   "file_extension": ".py",
   "mimetype": "text/x-python",
   "name": "python",
   "nbconvert_exporter": "python",
   "pygments_lexer": "ipython3",
   "version": "3.10.2"
  }
 },
 "nbformat": 4,
 "nbformat_minor": 5
}
