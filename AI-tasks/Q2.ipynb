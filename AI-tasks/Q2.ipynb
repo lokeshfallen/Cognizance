{
 "cells": [
  {
   "cell_type": "code",
   "execution_count": null,
   "id": "74b797ad-f938-400d-b1ea-9040144f5fcc",
   "metadata": {
    "tags": []
   },
   "outputs": [],
   "source": [
    "import pandas as pd \n",
    "import numpy as np\n",
    "df = pd.read_csv('test.csv')"
   ]
  },
  {
   "cell_type": "code",
   "execution_count": null,
   "id": "d929b40c-6e85-46d3-beab-a96327e06624",
   "metadata": {},
   "outputs": [],
   "source": [
    "df"
   ]
  },
  {
   "cell_type": "code",
   "execution_count": null,
   "id": "e7a8c6cd-718a-4aab-9967-480b2aa19881",
   "metadata": {},
   "outputs": [],
   "source": [
    "df.isnull().sum()       # to find the number of missing values in every column"
   ]
  },
  {
   "cell_type": "code",
   "execution_count": null,
   "id": "847e66b9-7d59-4ac7-ac72-671c1be69cdd",
   "metadata": {},
   "outputs": [],
   "source": [
    "df['LotFrontage'].head(50)"
   ]
  },
  {
   "cell_type": "code",
   "execution_count": null,
   "id": "daf9d42c-2953-4e26-b580-a1a02629a1c9",
   "metadata": {},
   "outputs": [],
   "source": [
    "df['LotFrontage'].tail(50)"
   ]
  },
  {
   "cell_type": "code",
   "execution_count": null,
   "id": "801d74bb-9ebe-48b0-91f3-f609a32f99ef",
   "metadata": {},
   "outputs": [],
   "source": [
    "df['LotFrontage'] = df['LotFrontage'].interpolate(method = 'linear', limit_direction = 'forward')"
   ]
  },
  {
   "cell_type": "code",
   "execution_count": null,
   "id": "c3a4dff4-8932-4e60-8b9c-61540ecf3821",
   "metadata": {},
   "outputs": [],
   "source": [
    "df.isnull().sum()"
   ]
  },
  {
   "cell_type": "code",
   "execution_count": null,
   "id": "3b649614-49c0-4701-a52d-feecc1dbf38f",
   "metadata": {},
   "outputs": [],
   "source": [
    "df['Alley'].head(50)"
   ]
  },
  {
   "cell_type": "code",
   "execution_count": null,
   "id": "04bfaec0-2fe8-485f-af72-658e3cccd679",
   "metadata": {},
   "outputs": [],
   "source": [
    "df['Alley'].tail(50)"
   ]
  },
  {
   "cell_type": "code",
   "execution_count": null,
   "id": "8f8cc676-a822-4cb4-bb3e-19eae60b96e0",
   "metadata": {},
   "outputs": [],
   "source": [
    "df['Alley'] = df['Alley'].replace(to_replace = np.nan , value = 'Grvl')"
   ]
  },
  {
   "cell_type": "code",
   "execution_count": null,
   "id": "ebd87123-593e-4e7f-a7ca-dc22c9163748",
   "metadata": {},
   "outputs": [],
   "source": [
    "df.isnull().sum()"
   ]
  },
  {
   "cell_type": "code",
   "execution_count": null,
   "id": "eb7612ec-8145-45b9-b3ce-631b00d24555",
   "metadata": {},
   "outputs": [],
   "source": [
    "df['BsmtQual'].head(50)"
   ]
  },
  {
   "cell_type": "code",
   "execution_count": null,
   "id": "2d72ed49-8cac-4e1b-9050-f8f3cb4b4a87",
   "metadata": {},
   "outputs": [],
   "source": [
    "df['BsmtQual'].tail(50)"
   ]
  },
  {
   "cell_type": "code",
   "execution_count": null,
   "id": "9f96fb00-ab75-4d2f-85cc-270036cc8c67",
   "metadata": {},
   "outputs": [],
   "source": [
    "df['BsmtQual'] = df['BsmtQual'].fillna(method = 'pad')"
   ]
  },
  {
   "cell_type": "code",
   "execution_count": null,
   "id": "441beb8c-e05f-479e-9cf2-b2848e3907d3",
   "metadata": {},
   "outputs": [],
   "source": [
    "df.isnull().sum()"
   ]
  },
  {
   "cell_type": "code",
   "execution_count": null,
   "id": "b3e3d7bb-d672-4223-858a-cf3a7c56bf0a",
   "metadata": {},
   "outputs": [],
   "source": [
    "df['BsmtCond'].head(50)"
   ]
  },
  {
   "cell_type": "code",
   "execution_count": null,
   "id": "53ed9817-fdf1-4d24-8059-00b22c71c32b",
   "metadata": {},
   "outputs": [],
   "source": [
    "df['BsmtCond'].tail(50)"
   ]
  },
  {
   "cell_type": "code",
   "execution_count": null,
   "id": "8b26605f-cf2f-4557-9b50-ec9cecaeba50",
   "metadata": {},
   "outputs": [],
   "source": [
    "df['BsmtExposure'].head(50)"
   ]
  },
  {
   "cell_type": "code",
   "execution_count": null,
   "id": "934d9ac7-dfab-4b38-bf1a-d4f138309f9a",
   "metadata": {},
   "outputs": [],
   "source": [
    "df['BsmtExposure'].tail(50)"
   ]
  },
  {
   "cell_type": "code",
   "execution_count": null,
   "id": "c2927a20-fa7e-4e86-a476-7aed5a08eb1d",
   "metadata": {},
   "outputs": [],
   "source": [
    "df['BsmtFinType1'].head(50)"
   ]
  },
  {
   "cell_type": "code",
   "execution_count": null,
   "id": "e62a8c66-8386-4f21-a129-2aa590971faa",
   "metadata": {},
   "outputs": [],
   "source": [
    "df['BsmtFinType2'].head(50)"
   ]
  },
  {
   "cell_type": "code",
   "execution_count": null,
   "id": "7728ada0-9438-4eac-894a-02dc6834322a",
   "metadata": {},
   "outputs": [],
   "source": [
    "df['BsmtFinType2'].tail(50)"
   ]
  },
  {
   "cell_type": "code",
   "execution_count": null,
   "id": "99fe74bd-9bed-4536-a98e-0176da78f106",
   "metadata": {},
   "outputs": [],
   "source": [
    "df.isnull().sum()"
   ]
  },
  {
   "cell_type": "code",
   "execution_count": null,
   "id": "082055d1-49b7-4241-bda9-1dac907aff21",
   "metadata": {},
   "outputs": [],
   "source": [
    "df = df.fillna(method = 'pad')"
   ]
  },
  {
   "cell_type": "code",
   "execution_count": null,
   "id": "3981a78d-f36a-4c86-a89e-5dd68fb5ff06",
   "metadata": {},
   "outputs": [],
   "source": [
    "df.isnull().sum()"
   ]
  },
  {
   "cell_type": "code",
   "execution_count": null,
   "id": "8863ea74-563f-4619-a023-05ab4dbc88fb",
   "metadata": {},
   "outputs": [],
   "source": [
    "df"
   ]
  },
  {
   "cell_type": "code",
   "execution_count": null,
   "id": "7a981301-ab8a-4897-95b0-b3921c4ff4b2",
   "metadata": {},
   "outputs": [],
   "source": []
  }
 ],
 "metadata": {
  "kernelspec": {
   "display_name": "Python 3 (ipykernel)",
   "language": "python",
   "name": "python3"
  },
  "language_info": {
   "codemirror_mode": {
    "name": "ipython",
    "version": 3
   },
   "file_extension": ".py",
   "mimetype": "text/x-python",
   "name": "python",
   "nbconvert_exporter": "python",
   "pygments_lexer": "ipython3",
   "version": "3.10.2"
  }
 },
 "nbformat": 4,
 "nbformat_minor": 5
}
