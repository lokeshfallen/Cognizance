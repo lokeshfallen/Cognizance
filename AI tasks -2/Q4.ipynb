{
 "cells": [
  {
   "cell_type": "code",
   "execution_count": 1,
   "id": "0bc3a318-deed-4823-8902-a0d8eb98d7f8",
   "metadata": {},
   "outputs": [],
   "source": [
    "list1 = [2, 3, 4, 5, 6, 7, 8 ,9]\n",
    "list2 = [4, 9, 16, 25, 36, 49, 64, 81]"
   ]
  },
  {
   "cell_type": "code",
   "execution_count": 4,
   "id": "36cce90f-09b2-4241-8fc2-c630d3d11233",
   "metadata": {},
   "outputs": [
    {
     "name": "stdout",
     "output_type": "stream",
     "text": [
      "{(7, 49), (2, 4), (4, 16), (8, 64), (6, 36), (3, 9), (5, 25), (9, 81)}\n"
     ]
    }
   ],
   "source": [
    "zipped_result = zip(list1, list2)\n",
    "set_result = set(zipped_result)\n",
    "print(set_result)"
   ]
  },
  {
   "cell_type": "code",
   "execution_count": null,
   "id": "1d7f4996-adcf-4d3e-adfa-bad8e7e46b9f",
   "metadata": {},
   "outputs": [],
   "source": []
  }
 ],
 "metadata": {
  "kernelspec": {
   "display_name": "Python 3 (ipykernel)",
   "language": "python",
   "name": "python3"
  },
  "language_info": {
   "codemirror_mode": {
    "name": "ipython",
    "version": 3
   },
   "file_extension": ".py",
   "mimetype": "text/x-python",
   "name": "python",
   "nbconvert_exporter": "python",
   "pygments_lexer": "ipython3",
   "version": "3.10.2"
  }
 },
 "nbformat": 4,
 "nbformat_minor": 5
}
